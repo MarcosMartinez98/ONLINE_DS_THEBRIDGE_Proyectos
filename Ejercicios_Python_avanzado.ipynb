{
 "cells": [
  {
   "cell_type": "markdown",
   "metadata": {},
   "source": [
    "## Ejercicio 2\n",
    "Haz un programa que detecte todos los duplicados de un elemento en una lista:\n",
    "* Utiliza una variable duplicado para asignarle el valor del elemento del que queremos encontrar todos sus duplicados.\n",
    "* El programa debe devolver todos los índices de los elementos duplicados.\n",
    "* Aplícalo para encontrar los duplicados de \"un\", \"es\" y \"binario\" de:  \n",
    "\n",
    ">```ejer_3 = [\"Un\", \"árbol\", \"binario\", \"es\", \"una\", \"estructura\", \"de\", \"un\", \"tipo\", \"particular\", \"a\", \"veces\", \"no\", \"es\", \"ni\", \"binario\"]```"
   ]
  },
  {
   "cell_type": "code",
   "execution_count": 74,
   "metadata": {},
   "outputs": [
    {
     "name": "stdout",
     "output_type": "stream",
     "text": [
      "(2, 'binario')\n",
      "(15, 'binario')\n",
      "--------------------------------------------------\n",
      "(7, 'un')\n",
      "--------------------------------------------------\n",
      "(3, 'es')\n",
      "(13, 'es')\n"
     ]
    }
   ],
   "source": [
    "ejer_3 = [\"Un\", \"árbol\", \"binario\", \"es\", \"una\", \"estructura\", \"de\", \"un\", \"tipo\", \"particular\", \"a\", \"veces\", \"no\", \"es\", \"ni\", \"binario\"]\n",
    "def duplicados(lista, texto):\n",
    "    lista_enum = enumerate(lista) # convierto la lista en una lista de tuplas (posicion, string)\n",
    "    for i in lista_enum:\n",
    "        if i[1] == texto:\n",
    "            print(i)\n",
    "        else:\n",
    "            None \n",
    "    # la funcion no devuelve nada si el string no aparece en la lista original\n",
    "duplicados(ejer_3,'binario')\n",
    "print('-' * 50)\n",
    "duplicados(ejer_3,'un') # el primer Un no lo detecta porque es case-sensitive\n",
    "print('-' * 50)\n",
    "duplicados(ejer_3,'es')\n"
   ]
  },
  {
   "cell_type": "markdown",
   "metadata": {},
   "source": [
    "## Ejercicio 1\n",
    "Eleva todos los elementos de la lista al cuadrado\n",
    "> ```ejer_2 = [1,2,3,4,5]```"
   ]
  },
  {
   "cell_type": "code",
   "execution_count": 116,
   "metadata": {},
   "outputs": [
    {
     "name": "stdout",
     "output_type": "stream",
     "text": [
      "[1, 4, 9, 16, 25]\n"
     ]
    }
   ],
   "source": [
    "ejer_2 = [1,2,3,4,5]\n",
    "el = []\n",
    "for i in ejer_2:\n",
    "    el = el + [i**2]\n",
    "print(el)"
   ]
  },
  {
   "cell_type": "markdown",
   "metadata": {},
   "source": [
    "## Ejercicio 3\n",
    "1. ¿Cuántas veces se repite el 3 en la siguiente tupla?\n",
    "2. Crea una tupla nueva con los elementos desde la posicion 5 a la 10.\n",
    "3. ¿Cuántos elementos tiene la tupla `ejer_3`?\n",
    "> ```ejer_9 = (3, 20, 3, 47, 19, 3, 29, 45, 67, 78, 90, 3, 3, 5, 2, 4, 7, 9, 4, 2, 4, 3, 3, 4, 6, 7)```"
   ]
  },
  {
   "cell_type": "code",
   "execution_count": 4,
   "metadata": {},
   "outputs": [
    {
     "name": "stdout",
     "output_type": "stream",
     "text": [
      "7\n",
      "(19, 3, 29, 45, 67)\n",
      "26\n"
     ]
    }
   ],
   "source": [
    "ejer_9 = (3, 20, 3, 47, 19, 3, 29, 45, 67, 78, 90, 3, 3, 5, 2, 4, 7, 9, 4, 2, 4, 3, 3, 4, 6, 7)\n",
    "# numero de veces que se repite el 3\n",
    "print(ejer_9.count(3))\n",
    "# crear tupla elementos de la posicion 5 a la 10\n",
    "print(ejer_9[4:9]) # como empieza en 0, la posicion 5 se corresponde con el 4\n",
    "# elementos de la tupla\n",
    "print(len(ejer_9))"
   ]
  },
  {
   "cell_type": "markdown",
   "metadata": {},
   "source": [
    "## Ejercicio 4\n",
    "Comprueba si el numero 60 esta en la tupla del ejercicio 3"
   ]
  },
  {
   "cell_type": "code",
   "execution_count": null,
   "metadata": {},
   "outputs": [
    {
     "name": "stdout",
     "output_type": "stream",
     "text": [
      "False\n"
     ]
    }
   ],
   "source": [
    "ejer_9 = (3, 20, 3, 47, 19, 3, 29, 45, 67, 78, 90, 3, 3, 5, 2, 4, 7, 9, 4, 2, 4, 3, 3, 4, 6, 7)\n",
    "num = 60\n",
    "if num in ejer_9: # podria poner 60 directamente aqui, pero asi tambien me sirve para comprobar si otros numeros estan en la tuplab\n",
    "    print(True)\n",
    "else:\n",
    "    print(False)\n"
   ]
  },
  {
   "cell_type": "markdown",
   "metadata": {},
   "source": [
    "## Ejercicio 5\n",
    "1. Convierte la tupla del ejercicio 3 en una lista\n",
    "2. Convierte la tupla del ejercicio 3 en un set\n",
    "3. Convierte la tupla del ejercicio 3 en un diccionario. Usa también los indices"
   ]
  },
  {
   "cell_type": "code",
   "execution_count": null,
   "metadata": {},
   "outputs": [
    {
     "name": "stdout",
     "output_type": "stream",
     "text": [
      "[3, 20, 3, 47, 19, 3, 29, 45, 67, 78, 90, 3, 3, 5, 2, 4, 7, 9, 4, 2, 4, 3, 3, 4, 6, 7]\n",
      "{2, 3, 67, 5, 4, 7, 6, 9, 45, 78, 47, 19, 20, 90, 29}\n",
      "{0: 3, 1: 20, 2: 3, 3: 47, 4: 19, 5: 3, 6: 29, 7: 45, 8: 67, 9: 78, 10: 90, 11: 3, 12: 3, 13: 5, 14: 2, 15: 4, 16: 7, 17: 9, 18: 4, 19: 2, 20: 4, 21: 3, 22: 3, 23: 4, 24: 6, 25: 7}\n",
      "<class 'dict'>\n"
     ]
    }
   ],
   "source": [
    "ejer_9 = (3, 20, 3, 47, 19, 3, 29, 45, 67, 78, 90, 3, 3, 5, 2, 4, 7, 9, 4, 2, 4, 3, 3, 4, 6, 7)\n",
    "# convertimos la tupla en lista con la funcion list\n",
    "ejer9_lista = list(ejer_9)\n",
    "print(ejer9_lista)\n",
    "# convertimos la tupla en un set\n",
    "ejer9_set = set(ejer_9)\n",
    "print(ejer9_set)\n",
    "# convertimos la tupla en un diccionaro\n",
    "diccionario = {}\n",
    "for i, j in zip(range(len(ejer_9)), ejer_9): #la etiqueta es la posicion del elemento en la lista\n",
    "    diccionario[i] = j\n",
    "print(diccionario)\n",
    "print(type(diccionario))\n",
    "\n"
   ]
  },
  {
   "cell_type": "markdown",
   "metadata": {},
   "source": [
    "## Ejercicio 6\n",
    "Multiplica todos los valores del diccionario\n",
    "> ```ejer_6 = {1: 11, 2: 22, 3: 33, 4: 44, 5: 55}```"
   ]
  },
  {
   "cell_type": "code",
   "execution_count": null,
   "metadata": {},
   "outputs": [
    {
     "name": "stdout",
     "output_type": "stream",
     "text": [
      "19326120\n",
      "19326120\n"
     ]
    }
   ],
   "source": [
    "ejer_6 = {1: 11, 2: 22, 3: 33, 4: 44, 5: 55}\n",
    "valores = list(ejer_6.values()) # convierto los valores en una lista para poder operar con ellos\n",
    "resultado = 1 #inicializamos el resultado en 1 en este caso para hacer el producto\n",
    "for i in valores:\n",
    "    resultado = resultado * i\n",
    "print(resultado)"
   ]
  },
  {
   "cell_type": "markdown",
   "metadata": {},
   "source": [
    "## Ejercicio 7\n",
    "\n",
    "1. Crea un diccionario que describa un libro, con los siguientes campos o claves: \"titulo\",\"autor\",\"idioma original\",\"año de publicación\".\n",
    "2. Crea un a lista, llamada librería.\n",
    "3. Añade cuatro libros a tu elección a la librería."
   ]
  },
  {
   "cell_type": "code",
   "execution_count": null,
   "metadata": {},
   "outputs": [
    {
     "name": "stdout",
     "output_type": "stream",
     "text": [
      "[{'titulo': 'Orgullo y prejuicio', 'autor': 'Jane Austen', 'idioma original': 'ingles', 'año de publicacion': 1813}, {'titulo': 'Cien años de soledad', 'autor': 'Gabriel García Márquez', 'idioma original': 'español', 'año de publicacion': 1967}, {'titulo': 'Crimen y castigo', 'autor': 'Fiódor Dostoyevski', 'idioma original': 'ruso', 'año de publicacion': 1866}, {'titulo': 'El gran Gatsby', 'autor': 'F. Scott Fitzgerald', 'idioma original': 'ingles', 'año de publicacion': 1925}]\n"
     ]
    }
   ],
   "source": [
    "dict_libro1 = {\n",
    "    'titulo': 'Orgullo y prejuicio',\n",
    "    'autor': 'Jane Austen',\n",
    "    'idioma original': 'ingles',\n",
    "    'año de publicacion': 1813\n",
    "}\n",
    "dict_libro2 = {\n",
    "    'titulo': 'Cien años de soledad',\n",
    "    'autor': 'Gabriel García Márquez',\n",
    "    'idioma original': 'español',\n",
    "    'año de publicacion': 1967\n",
    "}\n",
    "\n",
    "dict_libro3 = {\n",
    "    'titulo': 'Crimen y castigo',\n",
    "    'autor': 'Fiódor Dostoyevski',\n",
    "    'idioma original': 'ruso',\n",
    "    'año de publicacion': 1866\n",
    "}\n",
    "\n",
    "dict_libro4 = {\n",
    "    'titulo': 'El gran Gatsby',\n",
    "    'autor': 'F. Scott Fitzgerald',\n",
    "    'idioma original': 'ingles',\n",
    "    'año de publicacion': 1925\n",
    "}\n",
    "libreria = [] # creamos una lista vacia y le agregamos con append los 4 libros que son tipo diccionario\n",
    "libreria.append(dict_libro1)\n",
    "libreria.append(dict_libro2)\n",
    "libreria.append(dict_libro3)\n",
    "libreria.append(dict_libro4)\n",
    "print(libreria)"
   ]
  },
  {
   "cell_type": "markdown",
   "metadata": {},
   "source": [
    "## Ejercicio 8\n",
    "Modifica los valores del idioma de todos los libros del ejercicio anterior para que sea \"esperanto\"\n"
   ]
  },
  {
   "cell_type": "code",
   "execution_count": null,
   "metadata": {},
   "outputs": [
    {
     "name": "stdout",
     "output_type": "stream",
     "text": [
      "[{'titulo': 'Orgullo y prejuicio', 'autor': 'Jane Austen', 'idioma original': 'esperanto', 'año de publicacion': 1813}, {'titulo': 'Cien años de soledad', 'autor': 'Gabriel García Márquez', 'idioma original': 'esperanto', 'año de publicacion': 1967}, {'titulo': 'Crimen y castigo', 'autor': 'Fiódor Dostoyevski', 'idioma original': 'esperanto', 'año de publicacion': 1866}, {'titulo': 'El gran Gatsby', 'autor': 'F. Scott Fitzgerald', 'idioma original': 'esperanto', 'año de publicacion': 1925}]\n"
     ]
    }
   ],
   "source": [
    "for i in libreria: # creamos una funcion que recorre los valores de libreria y actualiza la clave 'idioma original'\n",
    "    i.update({'idioma original' : 'esperanto'})\n",
    "print(libreria)"
   ]
  },
  {
   "cell_type": "markdown",
   "metadata": {},
   "source": [
    "## Ejercicio 9\n",
    "1. Escribe un programa que dada una variable titulo busque los libros que hay en la librería con ese título. Si no se encuentra debe devolver el mensaje `Ese no lo tengo, ¿mola?`\n",
    "2. Pruena que el programa con uno de tus libros y con otro que no contenga tu librería."
   ]
  },
  {
   "cell_type": "code",
   "execution_count": null,
   "metadata": {},
   "outputs": [
    {
     "name": "stdout",
     "output_type": "stream",
     "text": [
      "{'titulo': 'El gran Gatsby', 'autor': 'F. Scott Fitzgerald', 'idioma original': 'esperanto', 'año de publicacion': 1925}\n",
      "Ese no lo tengo, ¿mola?\n"
     ]
    }
   ],
   "source": [
    "def busca_libro(titulo):\n",
    "    for i in libreria:\n",
    "        if i['titulo'] == titulo:\n",
    "            print(i)\n",
    "            break\n",
    "    else: # este else es muy importante, lo pongo fuera del if, porque si lo pongo dentro \n",
    "          # me apareceria tres veces (en este caso) el mensaje del print del else\n",
    "            print('Ese no lo tengo, ¿mola?')\n",
    "busca_libro('El gran Gatsby')\n",
    "busca_libro('Lolita')"
   ]
  },
  {
   "cell_type": "markdown",
   "metadata": {},
   "source": [
    "## Ejercicio 10\n",
    "Convierte el programa del ejercicio 2 en una función al que se le pase el valor a buscar como un argumento posicional"
   ]
  },
  {
   "cell_type": "markdown",
   "metadata": {},
   "source": [
    "Respuesta: no entiendo bien la pregunta, en mi funcion el string que se quiera buscar esta en la segunda posicion, la primera corresponde  \n",
    "a lista que ha de ser una lista"
   ]
  },
  {
   "cell_type": "markdown",
   "metadata": {},
   "source": [
    "## Ejercicio 11\n",
    "Convierte el programa del ejercicio 9 en una función al que se le pasen como argumentos la librería, posicional, y el título, argumento keyword con valor \"ninguno\", por defecto."
   ]
  },
  {
   "cell_type": "code",
   "execution_count": 71,
   "metadata": {},
   "outputs": [
    {
     "name": "stdout",
     "output_type": "stream",
     "text": [
      "No se ha introducido un título de libro\n",
      "{'titulo': 'Crimen y castigo', 'autor': 'Fiódor Dostoyevski', 'idioma original': 'esperanto', 'año de publicacion': 1866}\n"
     ]
    }
   ],
   "source": [
    "def busca_libro(libreria, titulo = 'ninguno'):\n",
    "    if titulo == 'ninguno':\n",
    "         print('No se ha introducido un título de libro')\n",
    "         return # este return detiene la funcion si el titulo es ninguno, evitando que se entre en el else\n",
    "    for i in libreria:\n",
    "        if i['titulo'] == titulo:\n",
    "            print(i)\n",
    "            break\n",
    "    else:\n",
    "            print('Ese no lo tengo, ¿mola?')\n",
    "busca_libro(libreria)\n",
    "busca_libro(libreria, 'Crimen y castigo')"
   ]
  },
  {
   "cell_type": "markdown",
   "metadata": {},
   "source": [
    "## Ejercicio 12\n",
    "Solicitar al usuario que ingrese su dirección email. Imprimir un mensaje indicando si la dirección es válida o no, valiéndose de una función para decidirlo. Una dirección se considerará válida si contiene el símbolo \"@\"."
   ]
  },
  {
   "cell_type": "code",
   "execution_count": 72,
   "metadata": {},
   "outputs": [
    {
     "name": "stdout",
     "output_type": "stream",
     "text": [
      "El email pepitogrillo no es válido\n",
      "El email pepito@grillo es válido\n"
     ]
    }
   ],
   "source": [
    "def email_valido(email):\n",
    "    for i in email:\n",
    "        if i == '@':\n",
    "            print(f'El email {email} es válido')\n",
    "            break\n",
    "    else:\n",
    "        print(f'El email {email} no es válido')\n",
    "email_valido('pepitogrillo')\n",
    "email_valido('pepito@grillo')"
   ]
  },
  {
   "cell_type": "code",
   "execution_count": 85,
   "metadata": {},
   "outputs": [
    {
     "name": "stdout",
     "output_type": "stream",
     "text": [
      "El email pepitogrillo no es válido\n",
      "El email pepito@grillo es válido\n"
     ]
    }
   ],
   "source": [
    "# por aqui dejo otra version del programa\n",
    "def email_valido(email):\n",
    "    for i in email:\n",
    "        if i == '@':\n",
    "            return f'El email {email} es válido' #paro el if si la condicion se cumple\n",
    "    return f'El email {email} no es válido' #devuelvo el otro mensaje si despues de la busqueda en for de @ no lo encuentra\n",
    "\n",
    "print(email_valido('pepitogrillo'))\n",
    "print(email_valido('pepito@grillo')) #Le tengo que poner el print para que me devuelva ambos resultados, en caso contrario me devuelve el ultimo solo"
   ]
  },
  {
   "cell_type": "markdown",
   "metadata": {},
   "source": [
    "## Ejercicio 13\n",
    "Escribe una función que compruebe si un DNI es válido, devolviendo `True` en caso afirmativo.  \n",
    "En primer lugar, el DNI debe tener entre 7 y 8 dígitos numéricos.  \n",
    "Para saber si la letra del DNI es correcta puedes utilizar el siguiente fragmento de código:\n",
    ">```Python\n",
    ">DNI= 55555555\n",
    ">palabra='TRWAGMYFPDXBNJZSQVHLCKE'\n",
    ">print('La letra del DNI es: ', palabra[DNI%23])\n",
    ">````\n"
   ]
  },
  {
   "cell_type": "code",
   "execution_count": 111,
   "metadata": {},
   "outputs": [
    {
     "name": "stdout",
     "output_type": "stream",
     "text": [
      "El DNI 73100527H es válido\n",
      "El DNI 12345678A no es válido\n"
     ]
    }
   ],
   "source": [
    "def dni_valido(numeros,letra): #introducir letra en mayuscula\n",
    "    palabra='TRWAGMYFPDXBNJZSQVHLCKE'\n",
    "    if (len(str(numeros)) == 7) or ((len(str(numeros))) == 8) and (palabra[numeros % 23] == letra):\n",
    "        print(f'El DNI {numeros}{letra} es válido')\n",
    "    else:\n",
    "        print(f'El DNI {numeros}{letra} no es válido')\n",
    "dni_valido(73100527,'H')\n",
    "dni_valido(12345678,'A')"
   ]
  }
 ],
 "metadata": {
  "kernelspec": {
   "display_name": "base",
   "language": "python",
   "name": "python3"
  },
  "language_info": {
   "codemirror_mode": {
    "name": "ipython",
    "version": 3
   },
   "file_extension": ".py",
   "mimetype": "text/x-python",
   "name": "python",
   "nbconvert_exporter": "python",
   "pygments_lexer": "ipython3",
   "version": "3.12.7"
  }
 },
 "nbformat": 4,
 "nbformat_minor": 2
}
