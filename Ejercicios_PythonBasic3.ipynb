{
  "cells": [
    {
      "cell_type": "markdown",
      "metadata": {
        "id": "view-in-github",
        "colab_type": "text"
      },
      "source": [
        "<a href=\"https://colab.research.google.com/github/MarcosMartinez98/ONLINE_DS_THEBRIDGE_Proyectos/blob/main/Ejercicios_PythonBasic3.ipynb\" target=\"_parent\"><img src=\"https://colab.research.google.com/assets/colab-badge.svg\" alt=\"Open In Colab\"/></a>"
      ]
    },
    {
      "cell_type": "markdown",
      "metadata": {
        "id": "008WXYDmrqRB"
      },
      "source": [
        "![TheBridge_logo_RGB_color.jpg](attachment:TheBridge_logo_RGB_color.jpg)"
      ]
    },
    {
      "cell_type": "markdown",
      "metadata": {
        "id": "uR8oTrUOrqRD"
      },
      "source": [
        "![imagen](./img/ejercicios.png)"
      ]
    },
    {
      "cell_type": "markdown",
      "metadata": {
        "id": "a3GpmQj2rqRD"
      },
      "source": [
        "## EJERCICIOS PYTHON BASICO 3:\n",
        "## Operaciones matemáticas, comparación y booleanas"
      ]
    },
    {
      "cell_type": "markdown",
      "metadata": {
        "id": "XUIlXm6PrqRD"
      },
      "source": [
        "Completa los siguiente ejercicios, la solución completa a los mismos se publicarán en el repo del curso a lo largo del sprint. En algunos ejercicios se muestra la solución final, para que puedas comprobar que lo has hecho bien, pero lo importante es el código que generes. ¡Vaaamos, a ello...!"
      ]
    },
    {
      "cell_type": "markdown",
      "metadata": {
        "id": "bVm_jHAArqRE"
      },
      "source": [
        "![ejercicio.png](./img/ejercicio.png)\n",
        "\n",
        "\n",
        "## Ejercicio 1\n",
        "Tenemos las siguientes variables:\n",
        "\n",
        "```Python\n",
        "A = 4\n",
        "B = \"Text\"\n",
        "C = 4.1\n",
        "```\n",
        "\n",
        "Comprueba:\n",
        "1. Si A y B son equivalentes\n",
        "2. Si A y C NO son equivalentes\n",
        "3. Si A es mayor que C\n",
        "4. Si C es menor o igual que A\n",
        "5. Si B NO es equivalente a C"
      ]
    },
    {
      "cell_type": "code",
      "execution_count": 13,
      "metadata": {
        "id": "EZpnhr26rqRE",
        "outputId": "044e45e3-3494-4da2-bf57-f5d5b5b2058f",
        "colab": {
          "base_uri": "https://localhost:8080/"
        }
      },
      "outputs": [
        {
          "output_type": "stream",
          "name": "stdout",
          "text": [
            " False \n",
            " True \n",
            " False \n",
            " False \n",
            " True\n"
          ]
        }
      ],
      "source": [
        "a = 4\n",
        "b = 'Text'\n",
        "c = 4.1\n",
        "print( '',a == b,'\\n', not (a == c),'\\n', a > c,'\\n', c <= a,'\\n', not (b == c))"
      ]
    },
    {
      "cell_type": "markdown",
      "metadata": {
        "id": "LIbj0-DlrqRE"
      },
      "source": [
        "![ejercicio.png](./img/ejercicio.png)\n",
        "\n",
        "## Ejercicio 2\n",
        "Crea un programa donde se recojan dos inputs del usuario, y el output del programa sea si esos inputs son iguales o no"
      ]
    },
    {
      "cell_type": "code",
      "execution_count": 18,
      "metadata": {
        "id": "gj_6eYaNrqRF",
        "outputId": "37845581-4571-4177-c8c8-668cbf770299",
        "colab": {
          "base_uri": "https://localhost:8080/"
        }
      },
      "outputs": [
        {
          "output_type": "stream",
          "name": "stdout",
          "text": [
            "Vamos a comparar dos objetos, introduce el primero ellos: bocata\n",
            "Vamos ahora con el segundo: bocata\n",
            "Los objetos son iguales\n"
          ]
        }
      ],
      "source": [
        "var1 = input('Vamos a comparar dos objetos, introduce el primero ellos: ')\n",
        "var2 = input('Vamos ahora con el segundo: ')\n",
        "if var1 == var2:\n",
        "  print('Los objetos son iguales')\n",
        "else:\n",
        "  print('Los objetos no son iguales')"
      ]
    },
    {
      "cell_type": "markdown",
      "metadata": {
        "id": "FcPid1YMrqRF"
      },
      "source": [
        "![ejercicio.png](./img/ejercicio.png)\n",
        "\n",
        "## Ejercicio 3\n",
        "Mismo programa que en 2, pero en esta ocasión tienen que ser tres inputs y dos salidas. Una de las salidas que nos indique si todos son iguales, y la otra si al menos dos inputs sí que lo son"
      ]
    },
    {
      "cell_type": "code",
      "execution_count": 26,
      "metadata": {
        "id": "drQgL_OLrqRF",
        "outputId": "7617bdae-c219-4390-b7ca-4a79a6cb5470",
        "colab": {
          "base_uri": "https://localhost:8080/"
        }
      },
      "outputs": [
        {
          "output_type": "stream",
          "name": "stdout",
          "text": [
            "Vamos a comparar tres objetos, introduce el primero ellos: a\n",
            "Vamos ahora con el segundo: b\n",
            "Vamos con el tercero: a\n",
            "Los tres objetos no son iguales pero al menos dos sí lo son\n"
          ]
        }
      ],
      "source": [
        "var1 = input('Vamos a comparar tres objetos, introduce el primero ellos: ')\n",
        "var2 = input('Vamos ahora con el segundo: ')\n",
        "var3 = input('Vamos con el tercero: ')\n",
        "if var1 != var2 and var1 != var3 and var2 != var3:\n",
        "  print('Los tres objetos son distintos')\n",
        "elif var1 == var2 == var3:\n",
        "  print('Los tres objetos son iguales')\n",
        "else:\n",
        "  print('Los tres objetos no son iguales pero al menos dos sí lo son')"
      ]
    },
    {
      "cell_type": "markdown",
      "metadata": {
        "id": "XxlTZeKIrqRF"
      },
      "source": [
        "![ejercicio.png](./img/ejercicio.png)\n",
        "\n",
        "## Ejercicio 4\n",
        "Razona sin ejecutar código el output que obtendremos de las siguientes sentencias\n",
        "1. True and True and False\n",
        "2. not ((True or False) and (True or False))\n",
        "3. (False or False or False or True) and False\n",
        "4. not False and True and not True"
      ]
    },
    {
      "cell_type": "markdown",
      "metadata": {
        "id": "Uqju4kmcrqRF"
      },
      "source": [
        "1. False porque para que 'and' sea True se han de satisfacer todas las condiciones\n",
        "2. not ((True or False) and (True or False)) equivale a not(True and True) que es not True que es False.\n",
        "3. False porque False or False or False or True equivale a True y True and False es False\n",
        "4. not False and True and not True equivale a True and True and False que es False porque las tres condiciones no se cumplen."
      ]
    }
  ],
  "metadata": {
    "kernelspec": {
      "display_name": "Curso_Online_DATA",
      "language": "python",
      "name": "python3"
    },
    "language_info": {
      "codemirror_mode": {
        "name": "ipython",
        "version": 3
      },
      "file_extension": ".py",
      "mimetype": "text/x-python",
      "name": "python",
      "nbconvert_exporter": "python",
      "pygments_lexer": "ipython3",
      "version": "3.11.5"
    },
    "orig_nbformat": 4,
    "colab": {
      "provenance": [],
      "include_colab_link": true
    }
  },
  "nbformat": 4,
  "nbformat_minor": 0
}