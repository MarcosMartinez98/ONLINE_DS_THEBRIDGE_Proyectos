{
  "cells": [
    {
      "cell_type": "markdown",
      "metadata": {
        "id": "liorA-1ZSU4y"
      },
      "source": [
        "# Ejercicios Clases y Objetos"
      ]
    },
    {
      "cell_type": "markdown",
      "metadata": {
        "id": "5xXUz5l9SU4z"
      },
      "source": [
        "## Ejercicio 1\n",
        "Somos una empresa que tiene varias tiendas de electrodomesticos. Necesitamos un programa para manejar las tiendas, ver las ventas que han tenido, cuántos empleados hay, etc... Para ello vamos a modelizar la tienda en una clase, que tendrá las siguientes características:\n",
        "* Nombre clase: \"Tienda\"\n",
        "* Atributos comunes:\n",
        "    * Tipo: \"Electrodomésticos\"\n",
        "    * Abierta: True\n",
        "* Atributos propios de cada tienda:\n",
        "    * Nombre - String\n",
        "    * Dirección - String\n",
        "    * Número de empleados - int\n",
        "    * Ventas ultimos 3 meses - Lista de 3 numeros\n",
        "* Método para calcular las ventas de todos los meses, que devuelva un numero con todas las ventas.\n",
        "* Método que calcula la media de ventas de los ultimos meses, por empleado\n",
        "* Método que devuelve en un string el nombre de la tienda, junto con su dirección.\n",
        "* Método que obtiene las ventas del último mes.\n",
        "* Método para dar una proyección de las ventas en caso de haber invertido X dinero en marketing en esa tienda. Siendo X el parámetro de entrada. Si X es menor de 1000, las ventas de los ultimos 3 meses hubiesen sido de (1.2 x ventas), si es mayor o igual de 1000, las ventas hubiesen sido de (1.5 x venta). El método reescribe el atributo de ventas en los últimos 3 meses, y además devuelve las ventas con el aumento.\n",
        "\n",
        "Se pide:\n",
        "1. Implementar la clase \"Tienda\"\n",
        "2. Crear tres tiendas con datos inventados\n",
        "3. Comprueba en al menos una de ellas, todo lo implementado en la clase tienda (sus atributos, media de ventas, ventas/empleado...)\n",
        "3. Calcular las ventas del último mes de todas las tiendas. Para ello usa el bucle `for`\n",
        "4. Imprime por pantalla los nombres de las tiendas cuya dirección lleve el string \"Avenida\"\n",
        "5. Seguro que ya has hecho este apartado... Documenta la clase :)"
      ]
    },
    {
      "cell_type": "code",
      "execution_count": null,
      "metadata": {
        "id": "5cLQcLxfSU4z"
      },
      "outputs": [],
      "source": [
        "#Parte 1\n",
        "class Tienda:\n",
        "    tipo = 'Electrodomésticos' #Atributos comunes\n",
        "    abierta = True\n",
        "\n",
        "    def __init__(self, nombre, direccion, num_empleados, ventas_3meses): #definimos los atributos propios de cada objeto de la clase\n",
        "        self.nombre = nombre\n",
        "        self.direccion = direccion\n",
        "        self.num_empleados = num_empleados\n",
        "        self.ventas_3meses = ventas_3meses\n",
        "\n",
        "    def ventas_totales(self): #metodo que calcula las ventas totales\n",
        "        return sum(self.ventas_3meses)\n",
        "    \n",
        "    def media_ventas_por_empleado(self): # metodo para la media de las ventas por empleado\n",
        "        return sum(self.ventas_3meses)/self.num_empleados\n",
        "    \n",
        "    def datos_tienda(self): #metodo para el noombre y direccion\n",
        "        return f'La tienda {self.nombre} está ubicada en {self.direccion}'\n",
        "    \n",
        "    def ventas_ultimo_mes(self): # metodo para las ventas del ultimo mes\n",
        "        return self.ventas_3meses[2]\n",
        "    \n",
        "    def prevision_ventas(self, cantidad): #metodo para calcular la prevision de las ventas en funcion de la inversion cantidad en marketing\n",
        "        if cantidad < 1000:\n",
        "            return f'Las ventas han sido de {sum(self.ventas_3meses)} euros y tras la inversión de {cantidad} hubieran sido de {1.2*sum(self.ventas_3meses)}'\n",
        "        else:\n",
        "            return f'Las ventas han sido de {sum(self.ventas_3meses)} euros y tras la inversión de {cantidad} hubieran sido de {1.5*sum(self.ventas_3meses)}'\n",
        "    \n",
        "    "
      ]
    },
    {
      "cell_type": "code",
      "execution_count": 22,
      "metadata": {},
      "outputs": [
        {
          "name": "stdout",
          "output_type": "stream",
          "text": [
            "Electrodomésticos ; True ; Fnac ; Calle del Robo 24 ; 250 ; [10, 20, 15]\n",
            "45\n",
            "0.18 euros\n",
            "La tienda Fnac está ubicada en Calle del Robo 24\n",
            "15\n",
            "Las ventas han sido de 45 euros y tras la inversión de 1200 hubieran sido de 67.5\n"
          ]
        }
      ],
      "source": [
        "# Partes 2 y 3\n",
        "#Creamos 3 tiendas\n",
        "fnac = Tienda('Fnac', 'Calle del Robo 24', 250, [10, 20, 15])\n",
        "media_markt = Tienda('Media Markt', 'Calle de la Mentira 123', 150, [200, 100, 350])\n",
        "apple = Tienda('Apple Store', 'Avenida de la Estafa 1', 1000, [1200, 200, 3220])\n",
        "\n",
        "#Vamos a comprobar los atributos de fnac\n",
        "print(fnac.tipo,';', fnac.abierta, ';', fnac.nombre, ';', fnac.direccion, ';', fnac.num_empleados, ';', fnac.ventas_3meses)\n",
        "# comprobemos los metodos que hemos definido con fnac\n",
        "print(fnac.ventas_totales())\n",
        "print(fnac.media_ventas_por_empleado(), 'euros')\n",
        "print(fnac.datos_tienda())\n",
        "print(fnac.ventas_ultimo_mes())\n",
        "print(fnac.prevision_ventas(1200))\n"
      ]
    },
    {
      "cell_type": "code",
      "execution_count": 24,
      "metadata": {},
      "outputs": [
        {
          "name": "stdout",
          "output_type": "stream",
          "text": [
            " Las ventas de la tienda Fnac han sido de 15 euros en el último mes\n",
            " Las ventas de la tienda Media Markt han sido de 350 euros en el último mes\n",
            " Las ventas de la tienda Apple Store han sido de 3220 euros en el último mes\n"
          ]
        }
      ],
      "source": [
        "# Parte 4\n",
        "lista_tiendas = [fnac, media_markt, apple]\n",
        "for i in lista_tiendas:\n",
        "    print(f' Las ventas de la tienda {i.nombre} han sido de {i.ventas_ultimo_mes()} euros en el último mes')"
      ]
    },
    {
      "cell_type": "code",
      "execution_count": null,
      "metadata": {},
      "outputs": [
        {
          "name": "stdout",
          "output_type": "stream",
          "text": [
            "Apple Store\n"
          ]
        }
      ],
      "source": [
        "# Parte 5\n",
        "lista_tiendas = [fnac, media_markt, apple]\n",
        "for i in lista_tiendas:\n",
        "    if i.direccion.find('Avenida') != -1: # el metodo find devuelve -1 si no encuentra el string introducido\n",
        "        print(i.nombre)\n",
        "        break # si encuentra alguna ocurrencia para\n",
        "else:\n",
        "    print('No hay ninguna tienda ubicada en una avenida')"
      ]
    },
    {
      "cell_type": "markdown",
      "metadata": {
        "id": "WEBq7EpsSU40"
      },
      "source": [
        "## Ejercicio 2\n",
        "En este ejercicio vamos a implementar una clase *Perro* en Python. La clase tiene las siguientes características:\n",
        "* Cosas que sabemos seguro que tiene un perro\n",
        "    * Tiene 4 patas\n",
        "    * 2 orejas\n",
        "    * 2 ojos\n",
        "    * Una velocidad de 0. Por defecto, el perro está parado\n",
        "* Cuando se inicialice:\n",
        "    * El perro será de una determinada raza\n",
        "    * Por defecto tendrá pelo \"Marrón\", a no ser que se diga lo contrario.\n",
        "    * Por defecto no tendrá dueño, a no ser que se diga lo contrario.\n",
        "    \n",
        "* Dispondrá también de un método llamado andar, que tiene un argumento de entrada (aumento_velocidad). Este valor se le sumará a la velocidad que ya llevaba el perro.\n",
        "* Necesita otro método (parar), donde pondremos la velocidad a 0.\n",
        "* Otro método llamado \"ladrar\", que tendrá un argumento de entrada, y la salida será el siguiente string: \"GUAU!\" + el argumento de entrada.\n",
        "\n",
        "\n",
        "Se pide:\n",
        "* Implementa la clase *Perro*\n",
        "* Crea un objeto de tipo *Perro*, sin dueño\n",
        "* Comprueba que están bien todos sus atributos\n",
        "* Prueba que ande, y comprueba su velocidad\n",
        "* Páralo\n",
        "* Documenta la clase *Perro*"
      ]
    },
    {
      "cell_type": "code",
      "execution_count": 1,
      "metadata": {
        "id": "DpEWvbwGSU40"
      },
      "outputs": [
        {
          "name": "stdout",
          "output_type": "stream",
          "text": [
            "Patas:  4 \n",
            " Orejas: 2 \n",
            " Ojos: 2 \n",
            " Raza: Mastín \n",
            " Pelo: Rojo \n",
            " Amo: False \n",
            " Velocidad: 0\n",
            "3\n",
            "0\n",
            "GUAU! Me gusta Python\n"
          ]
        }
      ],
      "source": [
        "class Perro: #creamos los atributos por defecto\n",
        "    patas = 4\n",
        "    orejas = 2\n",
        "    ojos = 2\n",
        "    vel = 0\n",
        "\n",
        "    def __init__(self, raza, pelo = 'Marrón', amo = False): #estos son los atibutos propios de cada objeto de la clase\n",
        "        self.raza  = raza\n",
        "        self.pelo = pelo\n",
        "        self.amo = amo\n",
        "       \n",
        "    \n",
        "    def atributos(self): # como he de comprobar los atributos para el ejercicio creo un metodo que me los imprima todos\n",
        "        print('Patas: ', self.patas,'\\n','Orejas:',  self.orejas,'\\n', 'Ojos:' ,self.ojos,'\\n', 'Raza:', self.raza,'\\n', 'Pelo:', self.pelo,'\\n',\\\n",
        "               'Amo:', self.amo,'\\n', 'Velocidad:', self.vel)\n",
        "\n",
        "    def andar(self, aumento_velocidad): # creamos un metodo que asigne una velocidad al perro que por defecto era cero\n",
        "        self.vel = self.vel + aumento_velocidad\n",
        "        return self.vel \n",
        "    \n",
        "    def parar(self): #asignamos la velocidad en cero\n",
        "        self.vel = 0\n",
        "    \n",
        "    def ladrar(self, ladrido):\n",
        "        print(f'GUAU! {ladrido}')\n",
        "        \n",
        "\n",
        "\n",
        "\n",
        "mastin = Perro('Mastín', pelo = 'Rojo')\n",
        "mastin.atributos() #comprobamos los atributos del perro\n",
        "print(mastin.andar(3)) #hacemos andar al perro\n",
        "mastin.parar()\n",
        "print(mastin.vel) # comprobamos que la velocidad sea cero\n",
        "# no pedis esto pero voy a hacer ladrar al perro\n",
        "mastin.ladrar('Me gusta Python')\n",
        "    "
      ]
    }
  ],
  "metadata": {
    "colab": {
      "provenance": []
    },
    "kernelspec": {
      "display_name": "base",
      "language": "python",
      "name": "python3"
    },
    "language_info": {
      "codemirror_mode": {
        "name": "ipython",
        "version": 3
      },
      "file_extension": ".py",
      "mimetype": "text/x-python",
      "name": "python",
      "nbconvert_exporter": "python",
      "pygments_lexer": "ipython3",
      "version": "3.12.7"
    }
  },
  "nbformat": 4,
  "nbformat_minor": 0
}
