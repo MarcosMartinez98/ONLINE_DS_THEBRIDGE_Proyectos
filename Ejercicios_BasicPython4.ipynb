{
  "cells": [
    {
      "cell_type": "markdown",
      "metadata": {
        "id": "view-in-github",
        "colab_type": "text"
      },
      "source": [
        "<a href=\"https://colab.research.google.com/github/MarcosMartinez98/ONLINE_DS_THEBRIDGE_Proyectos/blob/main/Ejercicios_BasicPython4.ipynb\" target=\"_parent\"><img src=\"https://colab.research.google.com/assets/colab-badge.svg\" alt=\"Open In Colab\"/></a>"
      ]
    },
    {
      "cell_type": "markdown",
      "metadata": {
        "id": "UkVq5jG60-So"
      },
      "source": [
        "![TheBridge_logo_RGB_color.jpg](attachment:TheBridge_logo_RGB_color.jpg)"
      ]
    },
    {
      "cell_type": "markdown",
      "metadata": {
        "id": "UP1XM7ct0-So"
      },
      "source": [
        "![imagen](./img/ejercicios.png)"
      ]
    },
    {
      "cell_type": "markdown",
      "metadata": {
        "id": "DZI7IQBO0-Sp"
      },
      "source": [
        "## EJERCICIOS PYTHON BASICO 4:\n",
        "## Funciones, métodos, listas"
      ]
    },
    {
      "cell_type": "markdown",
      "metadata": {
        "id": "kMFC4UKp0-Sp"
      },
      "source": [
        "Completa los siguiente ejercicios, la solución completa a los mismos se publicarán en el repo del curso a lo largo del sprint. En algunos ejercicios se muestra la solución final, para que puedas comprobar que lo has hecho bien, pero lo importante es el código que generes. ¡Vaaamos, a ello...!"
      ]
    },
    {
      "cell_type": "markdown",
      "metadata": {
        "id": "neHbmLCF0-Sp"
      },
      "source": [
        "![ejercicio.png](./img/ejercicio.png)\n",
        "\n",
        "## Ejercicio 1\n",
        "Para este ejercicio vamos a poner en práctica [las funciones built in](https://docs.python.org/3/library/functions.html).\n",
        "\n",
        "1. Calcula el máximo de la lista: [4, 6, 8, -1]\n",
        "2. Suma todos los elementos de la lista anterior\n",
        "3. Redondea este float a 3 dígitos decimales: 63.451256965\n",
        "4. Valor absoluto de: -74"
      ]
    },
    {
      "cell_type": "code",
      "execution_count": 2,
      "metadata": {
        "id": "cju2VxLx0-Sp",
        "outputId": "01cea2e4-6edf-4ca4-9ca1-e9caa9799a98",
        "colab": {
          "base_uri": "https://localhost:8080/"
        }
      },
      "outputs": [
        {
          "output_type": "stream",
          "name": "stdout",
          "text": [
            "8\n",
            "17\n",
            "63.451\n",
            "74\n"
          ]
        }
      ],
      "source": [
        "x = [4, 6, 8, -1]\n",
        "print(max(x))\n",
        "print(sum(x))\n",
        "print(round(63.451256965,3))\n",
        "print(abs(-74))"
      ]
    },
    {
      "cell_type": "markdown",
      "metadata": {
        "id": "UhXvbreX0-Sp"
      },
      "source": [
        "![ejercicio.png](./img/ejercicio.png)\n",
        "\n",
        "## Ejercicio 2\n",
        "Para el siguiente string se pide imprimir por pantalla los siguientes casos\n",
        "\n",
        "    \"En un lugar de la Mancha, de cuyo nombre no quiero acordarme.\"\n",
        "\n",
        "1. Pásalo todo a mayúsculas\n",
        "2. Pásalo todo a minúsculas\n",
        "3. Solo la primera letra de cada palabra en mayúscula, el resto en minúscula\n",
        "4. Crea una lista dividiéndolo por sus espacios\n",
        "5. Sustituye las comas `,` por puntos y comas `;`\n",
        "6. Elimina las `a` minúsculas"
      ]
    },
    {
      "cell_type": "code",
      "execution_count": 4,
      "metadata": {
        "id": "rxmaCXcK0-Sp",
        "outputId": "e154b432-f64f-47cf-e6f6-890dd36fb10b",
        "colab": {
          "base_uri": "https://localhost:8080/"
        }
      },
      "outputs": [
        {
          "output_type": "stream",
          "name": "stdout",
          "text": [
            "EN UN LUGAR DE LA MANCHA, DE CUYO NOMBRE NO QUIERO ACORDARME.\n",
            "en un lugar de la mancha, de cuyo nombre no quiero acordarme.\n",
            "En Un Lugar De La Mancha, De Cuyo Nombre No Quiero Acordarme.\n",
            "['En', 'un', 'lugar', 'de', 'la', 'Mancha,', 'de', 'cuyo', 'nombre', 'no', 'quiero', 'acordarme.']\n",
            "En un lugar de la Mancha; de cuyo nombre no quiero acordarme.\n",
            "En un lugr de l Mnch, de cuyo nombre no quiero cordrme.\n"
          ]
        }
      ],
      "source": [
        "quijote = 'En un lugar de la Mancha, de cuyo nombre no quiero acordarme.'\n",
        "print(quijote.upper())\n",
        "print(quijote.lower())\n",
        "print(quijote.title())\n",
        "print(quijote.split())\n",
        "print(quijote.replace(',',';'))\n",
        "print(quijote.replace('a',''))"
      ]
    },
    {
      "cell_type": "markdown",
      "metadata": {
        "id": "qMyLsEhl0-Sq"
      },
      "source": [
        "![ejercicio.png](./img/ejercicio.png)\n",
        "\n",
        "## Ejercicio 3\n",
        "1. Crea una lista con 3 elementos numéricos\n",
        "2. Añade un cuarto elemento\n",
        "3. Calcula la suma de todos\n",
        "4. Elimina el segundo elemento de la lista\n",
        "5. Añade otro elemento en la posicion 3 de la lista\n",
        "6. Crea otra lista con 4 elementos y concaténala a la que ya tenías.\n",
        "7. Ordena la lista de menor a mayor.\n",
        "8. BONUS: Ordena la lista de mayor a menor.  \n",
        "(*PISTA: Para hacer 8, tendrás que buscar en la información del método...*)  \n",
        "  \n",
        "  \n",
        "NOTA: Pinta por pantalla el resultado de cada paso."
      ]
    },
    {
      "cell_type": "code",
      "execution_count": 14,
      "metadata": {
        "id": "yQtwExTR0-Sr",
        "outputId": "06017c0c-1ad6-45b1-911c-9ad25b4c404f",
        "colab": {
          "base_uri": "https://localhost:8080/"
        }
      },
      "outputs": [
        {
          "output_type": "stream",
          "name": "stdout",
          "text": [
            "[1, 2, 3]\n",
            "[1, 2, 3, 4]\n",
            "10\n",
            "[1, 3, 4]\n",
            "[1, 3, 2.72, 4]\n",
            "[-1, -2, -3, -4]\n",
            "[1, 3, 2.72, 4, -1, -2, -3, -4]\n",
            "[-4, -3, -2, -1, 1, 2.72, 3, 4]\n",
            "[4, 3, 2.72, 1, -1, -2, -3, -4]\n"
          ]
        }
      ],
      "source": [
        "lista = [1, 2, 3]\n",
        "print(lista)\n",
        "lista.append(4)\n",
        "print(lista)\n",
        "print(sum(lista))\n",
        "lista.pop(1) #El primer elemento se corresponde con la posicion 0\n",
        "print(lista)\n",
        "lista.insert(2,2.72) #En la posicion 3 (2 de la lista) añadimos el numero 2.72\n",
        "print(lista)\n",
        "lista2 = [-1,-2,-3,-4]\n",
        "print(lista2)\n",
        "nueva_lista = lista + lista2\n",
        "print(nueva_lista)\n",
        "nueva_lista.sort()\n",
        "print(nueva_lista)\n",
        "nueva_lista.sort(reverse = True)\n",
        "print(nueva_lista)\n"
      ]
    }
  ],
  "metadata": {
    "kernelspec": {
      "display_name": "Curso_Online_DATA",
      "language": "python",
      "name": "python3"
    },
    "language_info": {
      "codemirror_mode": {
        "name": "ipython",
        "version": 3
      },
      "file_extension": ".py",
      "mimetype": "text/x-python",
      "name": "python",
      "nbconvert_exporter": "python",
      "pygments_lexer": "ipython3",
      "version": "3.11.5"
    },
    "orig_nbformat": 4,
    "colab": {
      "provenance": [],
      "include_colab_link": true
    }
  },
  "nbformat": 4,
  "nbformat_minor": 0
}