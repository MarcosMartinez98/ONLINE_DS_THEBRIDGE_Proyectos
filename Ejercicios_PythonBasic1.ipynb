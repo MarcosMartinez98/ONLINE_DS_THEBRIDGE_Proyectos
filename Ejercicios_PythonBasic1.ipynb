{
  "cells": [
    {
      "cell_type": "markdown",
      "metadata": {
        "id": "view-in-github",
        "colab_type": "text"
      },
      "source": [
        "<a href=\"https://colab.research.google.com/github/MarcosMartinez98/ONLINE_DS_THEBRIDGE_Proyectos/blob/main/Ejercicios_PythonBasic1.ipynb\" target=\"_parent\"><img src=\"https://colab.research.google.com/assets/colab-badge.svg\" alt=\"Open In Colab\"/></a>"
      ]
    },
    {
      "cell_type": "markdown",
      "metadata": {
        "id": "GB2K42EgK9q5"
      },
      "source": [
        "![TheBridge_logo_RGB_color.jpg](attachment:TheBridge_logo_RGB_color.jpg)"
      ]
    },
    {
      "cell_type": "markdown",
      "metadata": {
        "id": "GnwVlO37K9q6"
      },
      "source": [
        "![imagen](./img/ejercicios.png)"
      ]
    },
    {
      "cell_type": "markdown",
      "metadata": {
        "id": "_9pTa0PXK9q6"
      },
      "source": [
        "## EJERCICIOS PYTHON BASICO 2:\n",
        "## Tipos y conversión de tipos"
      ]
    },
    {
      "cell_type": "markdown",
      "metadata": {
        "id": "tYmV-veoK9q6"
      },
      "source": [
        "Completa los siguiente ejercicios, la solución a los mismos se publicarán en el repo del curso a lo largo del sprint"
      ]
    },
    {
      "cell_type": "markdown",
      "metadata": {
        "id": "YAdFbIOXK9q7"
      },
      "source": [
        "![ejercicio.png](./img/ejercicio.png)\n",
        "\n",
        "## Ejercicio 1\n",
        "\n",
        "1. Crea dos variables numericas: un `int` y un `float`\n",
        "2. Comprueba sus tipos\n",
        "3. Sumalas en otra nueva\n",
        "4. ¿De qué tipo es la nueva variable?\n",
        "5. Elimina las dos primeras variables creadas"
      ]
    },
    {
      "cell_type": "code",
      "execution_count": 18,
      "metadata": {
        "id": "8QZmuLOsK9q7",
        "colab": {
          "base_uri": "https://localhost:8080/",
          "height": 245
        },
        "outputId": "e699cbff-dc95-4e10-cde0-e266fdbef275"
      },
      "outputs": [
        {
          "output_type": "stream",
          "name": "stdout",
          "text": [
            "La variable entero tiene tipo <class 'int'> y la variable real tiene tipo <class 'float'> \n",
            "El tipo de la nueva variable suma es, <class 'float'>\n"
          ]
        },
        {
          "output_type": "error",
          "ename": "NameError",
          "evalue": "name 'entero' is not defined",
          "traceback": [
            "\u001b[0;31m---------------------------------------------------------------------------\u001b[0m",
            "\u001b[0;31mNameError\u001b[0m                                 Traceback (most recent call last)",
            "\u001b[0;32m<ipython-input-18-7655597098e2>\u001b[0m in \u001b[0;36m<cell line: 0>\u001b[0;34m()\u001b[0m\n\u001b[1;32m      5\u001b[0m \u001b[0mprint\u001b[0m\u001b[0;34m(\u001b[0m\u001b[0;34mf'El tipo de la nueva variable suma es, {type(suma)}'\u001b[0m\u001b[0;34m)\u001b[0m\u001b[0;34m\u001b[0m\u001b[0;34m\u001b[0m\u001b[0m\n\u001b[1;32m      6\u001b[0m \u001b[0;32mdel\u001b[0m \u001b[0mentero\u001b[0m\u001b[0;34m;\u001b[0m \u001b[0;32mdel\u001b[0m \u001b[0mreal\u001b[0m\u001b[0;34m\u001b[0m\u001b[0;34m\u001b[0m\u001b[0m\n\u001b[0;32m----> 7\u001b[0;31m \u001b[0mprint\u001b[0m\u001b[0;34m(\u001b[0m\u001b[0mentero\u001b[0m\u001b[0;34m)\u001b[0m\u001b[0;34m\u001b[0m\u001b[0;34m\u001b[0m\u001b[0m\n\u001b[0m\u001b[1;32m      8\u001b[0m '''\n\u001b[1;32m      9\u001b[0m \u001b[0mdará\u001b[0m \u001b[0merror\u001b[0m\u001b[0;34m,\u001b[0m \u001b[0mpues\u001b[0m \u001b[0mharemos\u001b[0m \u001b[0mreferncia\u001b[0m \u001b[0ma\u001b[0m \u001b[0muna\u001b[0m \u001b[0mvariable\u001b[0m \u001b[0mque\u001b[0m \u001b[0mse\u001b[0m \u001b[0mha\u001b[0m \u001b[0mborrado\u001b[0m \u001b[0my\u001b[0m \u001b[0mpor\u001b[0m \u001b[0mlo\u001b[0m \u001b[0mtanto\u001b[0m \u001b[0mno\u001b[0m \u001b[0mestá\u001b[0m \u001b[0mdefinida\u001b[0m\u001b[0;34m\u001b[0m\u001b[0;34m\u001b[0m\u001b[0m\n",
            "\u001b[0;31mNameError\u001b[0m: name 'entero' is not defined"
          ]
        }
      ],
      "source": [
        "entero = 3\n",
        "real = 3.14\n",
        "print(f'La variable entero tiene tipo {type(entero)} y la variable real tiene tipo {type(real)} ')\n",
        "suma = entero + real\n",
        "print(f'El tipo de la nueva variable suma es, {type(suma)}')\n",
        "del entero; del real\n",
        "print(entero)\n",
        "'''\n",
        "dará error, pues haremos referncia a una variable que se ha borrado y por lo tanto no está definida\n",
        "En el momento en el que hacemos el print\n",
        "\n",
        "'''"
      ]
    },
    {
      "cell_type": "markdown",
      "metadata": {
        "id": "f5xfpkpQK9q7"
      },
      "source": [
        "![ejercicio.png](./img/ejercicio.png)\n",
        "\n",
        "## Ejercicio 2\n",
        "Escribe un programa para pasar de grados a radianes. Hay que usar `input`. Recuerda que la conversión se realiza mediante\n",
        "\n",
        "radianes = grados*(pi/180)"
      ]
    },
    {
      "cell_type": "code",
      "execution_count": 19,
      "metadata": {
        "id": "V50TUQMzK9q7",
        "colab": {
          "base_uri": "https://localhost:8080/"
        },
        "outputId": "405097f0-8b72-45c0-ee2f-df1ddb362aa1"
      },
      "outputs": [
        {
          "output_type": "stream",
          "name": "stdout",
          "text": [
            "Vamos a pasar de grados a radianes. Introduce un ángulo en grados (solo el número, no la unidad º)\n",
            "180\n",
            "180.0 grados son 3.14 radianes\n"
          ]
        }
      ],
      "source": [
        "import math\n",
        "grados = float(input('Vamos a pasar de grados a radianes. Introduce un ángulo en grados (solo el número, no la unidad º)\\n'))\n",
        "grados_radianes = grados * (math.pi/180)\n",
        "print(f'{grados} grados son {round(grados_radianes,2)} radianes')"
      ]
    },
    {
      "cell_type": "markdown",
      "metadata": {
        "id": "zX3-p58CK9q7"
      },
      "source": [
        "![ejercicio.png](./img/ejercicio.png)\n",
        "\n",
        "## Ejercicio 3\n",
        "Escribe un programa que calcule el area de un paralelogramo (base x altura). También con `input`"
      ]
    },
    {
      "cell_type": "code",
      "execution_count": 16,
      "metadata": {
        "id": "s2QfNiBAK9q7",
        "colab": {
          "base_uri": "https://localhost:8080/"
        },
        "outputId": "a8824d31-41bb-478b-b543-bdd6396265bc"
      },
      "outputs": [
        {
          "output_type": "stream",
          "name": "stdout",
          "text": [
            "Vamos a calcular el área de un paralelogramo, introduce primero la base\n",
            "5\n",
            "Genial, introduce ahora la altura\n",
            "3.14\n",
            "El área del paralelogramo es 15.700000000000001\n"
          ]
        }
      ],
      "source": [
        "base = float(input('Vamos a calcular el área de un paralelogramo, introduce primero la base\\n'))\n",
        "altura = float(input('Genial, introduce ahora la altura\\n'))\n",
        "print(f'El área del paralelogramo es {base*altura}')"
      ]
    },
    {
      "cell_type": "markdown",
      "source": [],
      "metadata": {
        "id": "0KEN5k9ekVuu"
      }
    },
    {
      "cell_type": "markdown",
      "metadata": {
        "id": "-6TBo_HvK9q8"
      },
      "source": [
        "![ejercicio.png](./img/ejercicio.png)\n",
        "\n",
        "## Ejercicio 4\n",
        "Escribe un programa que calcule el area de un paralelogramo (base x altura). También con `input`. En este caso debe ser capaz de admitir valores reales, con decimales, para base y altura en español. (PISTA: Recuerda que tendrás que hacer uso del método replace)"
      ]
    },
    {
      "cell_type": "code",
      "execution_count": null,
      "metadata": {
        "id": "uzUIa1JqK9q8"
      },
      "outputs": [],
      "source": [
        "base = float(input('Vamos a calcular el área de un paralelogramo, introduce primero la base\\n'))\n",
        "altura = float(input('Genial, introduce ahora la altura\\n'))\n",
        "print(f'El área del paralelogramo es {base*altura}')"
      ]
    },
    {
      "cell_type": "markdown",
      "metadata": {
        "id": "5zKugi5iK9q8"
      },
      "source": [
        "![ejercicio.png](./img/ejercicio.png)\n",
        "\n",
        "## Ejercicio 5\n",
        "Complete el siguiente código para solicitar al usuario su nombre y su edad. Luego, calcule en qué año nació el usuario y muestre el resultado."
      ]
    },
    {
      "cell_type": "code",
      "execution_count": 13,
      "metadata": {
        "id": "LISfTnRkK9q8",
        "colab": {
          "base_uri": "https://localhost:8080/"
        },
        "outputId": "42f8e891-371c-4f11-e722-d7e69de92ac2"
      },
      "outputs": [
        {
          "output_type": "stream",
          "name": "stdout",
          "text": [
            "¿Cuál es tu nombre? Marcos\n",
            "¿Cuál es tu edad? 26\n",
            "Marcos, naciste en el año 1999.\n"
          ]
        }
      ],
      "source": [
        "nombre = input(\"¿Cuál es tu nombre? \")\n",
        "edad = int(input(\"¿Cuál es tu edad? \"))\n",
        "año_actual = 2025  # Puedes cambiarlo según el año en curso\n",
        "año_nacimiento = año_actual - edad\n",
        "\n",
        "print(f\"{nombre}, naciste en el año {año_nacimiento}.\")\n"
      ]
    }
  ],
  "metadata": {
    "kernelspec": {
      "display_name": "Curso_Online_DATA",
      "language": "python",
      "name": "python3"
    },
    "language_info": {
      "codemirror_mode": {
        "name": "ipython",
        "version": 3
      },
      "file_extension": ".py",
      "mimetype": "text/x-python",
      "name": "python",
      "nbconvert_exporter": "python",
      "pygments_lexer": "ipython3",
      "version": "3.11.5"
    },
    "orig_nbformat": 4,
    "colab": {
      "provenance": [],
      "include_colab_link": true
    }
  },
  "nbformat": 4,
  "nbformat_minor": 0
}